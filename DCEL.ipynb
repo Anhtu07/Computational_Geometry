{
 "cells": [
  {
   "cell_type": "markdown",
   "metadata": {},
   "source": [
    "## Create PLY File"
   ]
  },
  {
   "cell_type": "code",
   "execution_count": 4,
   "metadata": {
    "collapsed": true
   },
   "outputs": [],
   "source": [
    "import numpy\n",
    "vertex = numpy.array([(0, 0),\n",
    "                      (0, 1),\n",
    "                      (1, 1),\n",
    "                      (1, 0),\n",
    "                      (2, 1),\n",
    "                      (2, 0)],\n",
    "                      dtype=[('x', 'f4'), ('y', 'f4')])\n",
    "\n",
    "face = numpy.array([([0, 1, 2, 3], 255, 255, 255),\n",
    "                    ([3, 2, 4, 5], 0, 255, 255)],\n",
    "                    dtype=[('vertex_indices', 'i4', (4,)),\n",
    "                           ('red', 'u1'), ('green', 'u1'),\n",
    "                           ('blue', 'u1')])"
   ]
  },
  {
   "cell_type": "code",
   "execution_count": 5,
   "metadata": {
    "collapsed": true
   },
   "outputs": [],
   "source": [
    "from plyfile import PlyData, PlyElement\n",
    "v = PlyElement.describe(vertex, 'vertex_list')\n",
    "f = PlyElement.describe(face, 'face_list')\n",
    "PlyData([v, f], text = True).write('two_square_2d.ply')"
   ]
  },
  {
   "cell_type": "markdown",
   "metadata": {},
   "source": [
    "## Read  PLY File"
   ]
  },
  {
   "cell_type": "code",
   "execution_count": 6,
   "metadata": {
    "collapsed": true
   },
   "outputs": [],
   "source": [
    "plydata = PlyData.read('two_square_2d.ply')"
   ]
  },
  {
   "cell_type": "code",
   "execution_count": 7,
   "metadata": {},
   "outputs": [
    {
     "data": {
      "text/plain": [
       "-1.0"
      ]
     },
     "execution_count": 7,
     "metadata": {},
     "output_type": "execute_result"
    }
   ],
   "source": [
    "plydata.elements[0].data[0][0] - 1"
   ]
  },
  {
   "cell_type": "code",
   "execution_count": 8,
   "metadata": {},
   "outputs": [
    {
     "data": {
      "text/plain": [
       "array([(array([0, 1, 2, 3]), 255, 255, 255),\n",
       "       (array([3, 2, 4, 5]),   0, 255, 255)],\n",
       "      dtype=[('vertex_indices', 'O'), ('red', 'u1'), ('green', 'u1'), ('blue', 'u1')])"
      ]
     },
     "execution_count": 8,
     "metadata": {},
     "output_type": "execute_result"
    }
   ],
   "source": [
    "plydata.elements[1].data"
   ]
  },
  {
   "cell_type": "markdown",
   "metadata": {},
   "source": [
    "## DCEL"
   ]
  },
  {
   "cell_type": "code",
   "execution_count": 1,
   "metadata": {
    "collapsed": true
   },
   "outputs": [],
   "source": [
    "from math import acos\n",
    "from math import sqrt\n",
    "from math import pi\n",
    "\n",
    "def length(v):\n",
    "    return sqrt(v[0]**2+v[1]**2)\n",
    "def dot_product(v,w):\n",
    "    return v[0]*w[0]+v[1]*w[1]\n",
    "def determinant(v,w):\n",
    "    return v[0]*w[1]-v[1]*w[0]\n",
    "def inner_angle(v,w):\n",
    "    cosx=dot_product(v,w)/(length(v)*length(w))\n",
    "    rad=acos(cosx) # in radians\n",
    "    return rad*180/pi # returns degrees\n",
    "def angle_counterclockwise(A, B):\n",
    "    inner=inner_angle(A,B)\n",
    "    det = determinant(A,B)\n",
    "    if det<0: #this is a property of the det. If the det < 0 then B is clockwise of A\n",
    "        return 360-inner\n",
    "    else: # if the det > 0 then A is immediately clockwise of B\n",
    "        return inner"
   ]
  },
  {
   "cell_type": "code",
   "execution_count": 4,
   "metadata": {
    "collapsed": true
   },
   "outputs": [],
   "source": [
    "class Vertex:\n",
    "    def __init__(self, coordinates=None, incident_edge=None, event_type=1):\n",
    "        self.coordinates = coordinates\n",
    "        self.incident_edge = incident_edge\n",
    "        self.involves_both = False\n",
    "        self.belong_to = None\n",
    "        # Dinh nghia 1 la chi thuoc 1 dcel\n",
    "        # 2 la giao 2 doan thuoc 2 dcel\n",
    "        # 3 la 1 doan cua dcel di qua dinh cua dcel khac\n",
    "        # 4 la 2 dinh cua 2 dcel trung nhau\n",
    "        self.event_type = event_type\n",
    "        self.left_hedge = None\n",
    "    \n",
    "    def find_hedges_w_origin(self):\n",
    "        edges = [self.incident_edge]\n",
    "        current = self.incident_edge\n",
    "        while True:\n",
    "            if self.incident_edge == current.twin.next:\n",
    "                break\n",
    "            current = current.twin.next\n",
    "            edges.append(current)\n",
    "        return edges\n",
    "    \n",
    "    def find_hedges_w_des(self):\n",
    "        edges = [self.incident_edge.twin]\n",
    "        current = self.incident_edge.twin\n",
    "        while True:\n",
    "            if self.incident_edge.twin == current.next.twin:\n",
    "                break\n",
    "            current = current.next.twin\n",
    "            edges.append(current)\n",
    "        return edges\n",
    "\n",
    "    def __repr__(self):\n",
    "        return str(self.coordinates)\n",
    "                \n",
    "    def __eq__(self, other):\n",
    "        if isinstance(other, Vertex):\n",
    "            return np.linalg.norm([self.coordinates[0] - other.coordinates[0], self.coordinates[1] - other.coordinates[1]]) < 1e-4\n",
    "        return False\n",
    "    \n",
    "    def __hash__(self):\n",
    "        return hash(self.coordinates)\n",
    "             \n",
    "class Face:\n",
    "    def __init__(self, outer_component=None, name=None):\n",
    "        self.outer_component = outer_component\n",
    "        self.inner_components = []\n",
    "        self.segment = None\n",
    "        self.belong_to = None\n",
    "        self.name = name\n",
    "        \n",
    "    def add_inner_component(self, hf):\n",
    "        self.inner_components.append(hf)\n",
    "\n",
    "    def __repr__(self):\n",
    "        return ('Face{outer='+(str(self.outer_component) if self.outer_component is not None else 'none'))+',inner='+str(self.inner_components)+'}'\n",
    "\n",
    "class HalfEdge:\n",
    "    def __init__(self, origin=None):\n",
    "        self.origin = origin\n",
    "        self.twin = None\n",
    "        self.incident_face = None\n",
    "        self.next = None\n",
    "        self.prev = None\n",
    "        self.belong_to = None\n",
    "        self.cycle = None\n",
    "        self.has_twin = False\n",
    "    \n",
    "    def __repr__(self):\n",
    "        return ('HalfEdge{O=' + str(self.origin) + ', D=' + (str(self.next.origin) if self.next is not None else 'none')) + '}'\n",
    "\n",
    "    def copy_next(self, he):\n",
    "        self.next = he.next\n",
    "        self.prev = he.prev\n",
    "        self.incident_face = he.incident_face\n",
    "\n",
    "    def set_next(self, he):\n",
    "        self.next = he\n",
    "        he.prev = self\n",
    "\n",
    "    def set_prev(self, he):\n",
    "        self.prev = he\n",
    "        he.next = self\n",
    "\n",
    "    def set_twin(self, he):\n",
    "        self.twin = he\n",
    "        he.twin = self\n",
    "        self.has_twin = True\n",
    "\n",
    "    def cal_angle(self):\n",
    "        if self.next is None or self.next.origin is None:\n",
    "            return None\n",
    "        x1, y1 = self.origin.coordinates\n",
    "        x2, y2 = self.next.origin.coordinates\n",
    "        angle = np.arctan2(y2-y1, x2-x1)*180/np.pi\n",
    "        if angle <= 0:\n",
    "            angle += 360\n",
    "        return angle\n",
    "\n",
    "    def clockwise_angle(self, he):\n",
    "        x1, y1 = self.origin.coordinates\n",
    "        x2, y2 = self.next.origin.coordinates\n",
    "        x_v2, y_v2 = (x2-x1, y2-y1)\n",
    "        x3, y3 = he.origin.coordinates\n",
    "        x4, y4 = he.next.origin.coordinates\n",
    "        x_v1, y_v1 = (x4-x3, y4-y3)\n",
    "        dot = x_v1*x_v2 + y_v1*y_v2\n",
    "        det = x_v1*y_v2 - y_v1*x_v2\n",
    "        angle = np.arctan2(-det, -dot) + np.pi\n",
    "        if angle >= 2*np.pi or angle < 0:\n",
    "            angle = 0\n",
    "        return angle*180/np.pi\n",
    "    \n",
    "    def inside_angle(self, next_he):\n",
    "        return self.twin.clockwise_angle(next_he)\n"
   ]
  },
  {
   "cell_type": "code",
   "execution_count": 53,
   "metadata": {
    "scrolled": false
   },
   "outputs": [],
   "source": [
    "import numpy as np\n",
    "import matplotlib.cm as cm\n",
    "class DCEL():\n",
    "    def __init__(self):\n",
    "        self.vertices = []\n",
    "        self.faces = []\n",
    "        self.halfedges = []\n",
    "        \n",
    "    def __construct_bounded_face__(self, triangulation):\n",
    "        for coordinates in triangulation.points:\n",
    "            vertex = Vertex(coordinates)\n",
    "            self.vertices.append(vertex)\n",
    "            \n",
    "        for face in triangulation.simplices:\n",
    "            # create edge list constructing a face\n",
    "            edges = []\n",
    "            half_edges = []\n",
    "            for i in range(len(face)):\n",
    "                if i < len(face)-1:\n",
    "                    edges.append((face[i], face[i+1]))\n",
    "                else:\n",
    "                    edges.append((face[i], face[0]))\n",
    "\n",
    "            for edge in edges:\n",
    "                half_edge = HalfEdge(self.vertices[edge[0]])\n",
    "                self.vertices[edge[0]].incident_edge = half_edge\n",
    "                half_edges.append(half_edge)\n",
    "                \n",
    "            face = Face(half_edges[0])\n",
    "            self.faces.append(face)\n",
    "            \n",
    "            # set next and prev pointer of half-edges in half_edges\n",
    "            for i in range(len(half_edges)):\n",
    "                \n",
    "                if i == 0:\n",
    "                    half_edges[i].next = half_edges[i+1]\n",
    "                    half_edges[i].prev = half_edges[-1]\n",
    "                    half_edges[i].incident_face = face\n",
    "                elif i == len(half_edges)-1:\n",
    "                    half_edges[i].next = half_edges[0]\n",
    "                    half_edges[i].prev = half_edges[i-1]\n",
    "                    half_edges[i].incident_face = face\n",
    "                else:\n",
    "                    half_edges[i].next = half_edges[i+1]\n",
    "                    half_edges[i].prev = half_edges[i-1]\n",
    "                    half_edges[i].incident_face = face\n",
    "                    \n",
    "            for hf in half_edges:\n",
    "                self.halfedges.append(hf)\n",
    "            \n",
    "    def __construct_twin__(self, triangulation):\n",
    "        self.__construct_bounded_face__(triangulation)\n",
    "        #Sequentially pick half edge a from half_edge list, check if there exist another half b edge that has its end is a's origin\n",
    "        #and it's origin is a's end, set a and b are twin of each other.\n",
    "        for i in range(len(self.halfedges)):\n",
    "            a = self.halfedges[i]\n",
    "            if a.has_twin:\n",
    "                continue\n",
    "            a_origin = a.origin\n",
    "            a_end = a.next.origin\n",
    "            for hf in self.halfedges[i+1:]:\n",
    "                b_origin = hf.origin\n",
    "                b_end = hf.next.origin\n",
    "                if a_origin == b_end and a_end == b_origin:\n",
    "                    b = hf\n",
    "                    a.set_twin(b)\n",
    "                    b.set_twin(a)\n",
    "                    break\n",
    "                    \n",
    "    def __construct_unbounded_face__(self, triangulation):\n",
    "        self.__construct_twin__(triangulation)\n",
    "        # for every hafl edge that doesnt have twin edge, find its next by searching for a half edge whose end is its origin\n",
    "        # and also doesn't have a twin.\n",
    "        unbounded_face = Face()\n",
    "        \n",
    "        without_twin_list = []\n",
    "        for hf in self.halfedges:\n",
    "            if not hf.has_twin:\n",
    "                without_twin_list.append(hf)\n",
    "\n",
    "        while len(without_twin_list) != 0:\n",
    "            starting_hf = without_twin_list[0] #take a arbitrary half edge\n",
    "            end = starting_hf.next.origin\n",
    "            origin = starting_hf.origin\n",
    "\n",
    "            \n",
    "            starting_twin_hf = HalfEdge(end)\n",
    "            starting_twin_hf.set_twin(starting_hf)\n",
    "            starting_hf.set_twin(starting_twin_hf)\n",
    "            \n",
    "            \n",
    "            current_twin_edge = starting_twin_hf\n",
    "            self.halfedges.append(starting_twin_hf)\n",
    "            rm_list = [starting_hf]\n",
    "            \n",
    "            while current_twin_edge.next is None:\n",
    "                current_twin_edge.incident_face = unbounded_face\n",
    "                candidates = []\n",
    "                for hf in without_twin_list:\n",
    "                    end_hf = hf.next.origin\n",
    "                    if end_hf == origin and not hf.has_twin:\n",
    "                        candidates.append(hf)\n",
    "                \n",
    "                if candidates == []:\n",
    "                    break\n",
    "                        \n",
    "                v1 = end.coordinates - origin.coordinates\n",
    "                angles = []\n",
    "                for c in candidates:\n",
    "                    v2 = c.origin.coordinates - c.next.origin.coordinates\n",
    "                    counterclockwise_angle = angle_counterclockwise(v1, v2)\n",
    "                    angles.append(counterclockwise_angle)\n",
    "                \n",
    "                index = angles.index(max(angles))\n",
    "                winner = candidates[index] #^^#\n",
    "                \n",
    "                twin_winner = HalfEdge(origin)\n",
    "                twin_winner.set_twin(winner)\n",
    "                twin_winner.incident_face = unbounded_face\n",
    "                winner.set_twin(twin_winner)\n",
    "                \n",
    "                current_twin_edge.next = twin_winner\n",
    "                twin_winner.prev = current_twin_edge\n",
    "                \n",
    "                current_twin_edge = twin_winner\n",
    "                rm_list.append(winner)\n",
    "                origin = winner.origin\n",
    "                end = winner.next.origin\n",
    "                self.halfedges.append(twin_winner)\n",
    "            \n",
    "            starting_twin_hf = starting_hf.twin\n",
    "            current_twin_edge.set_next(starting_twin_hf)\n",
    "            starting_twin_hf.set_prev(current_twin_edge)\n",
    "\n",
    "            unbounded_face.add_inner_component(rm_list[0])\n",
    "            for hf in rm_list:\n",
    "                without_twin_list.remove(hf)\n",
    "            \n",
    "            \n",
    "        self.faces.append(unbounded_face)\n",
    "                        \n",
    "    def plot_dcel(self, ax=None, name=None):\n",
    "        if ax is not None:\n",
    "            splt = ax\n",
    "        else:\n",
    "            splt = plt.subplot()\n",
    "        def detect_cycle():\n",
    "            cycles = []\n",
    "            he_set = set(self.halfedges)\n",
    "            while len(he_set) != 0:\n",
    "                first_he = he_set.pop()\n",
    "                current_cycle = [first_he]\n",
    "                current_he = first_he\n",
    "                while current_he.next != first_he:\n",
    "                    current_he = current_he.next\n",
    "                    he_set.remove(current_he)\n",
    "                    current_cycle.append(current_he)\n",
    "                cycles.append(current_cycle)\n",
    "            return cycles\n",
    "\n",
    "        def shift_left_he(halfedge):\n",
    "            x1, y1 = halfedge.origin.coordinates\n",
    "            x2, y2 = halfedge.next.origin.coordinates\n",
    "            v = np.array([x2-x1, y2-y1])\n",
    "            xv, yv = v\n",
    "            norm = np.linalg.norm([xv, yv])\n",
    "            a = np.array([[xv, yv], [-yv, xv]])\n",
    "            b = [0, 0.03*norm]\n",
    "            dx, dy = np.linalg.solve(a,b)\n",
    "            dxv, dyv = v/norm*0.03\n",
    "            return x1+dx+dxv, y1+dy+dyv, x2-x1-2*dxv, y2-y1-2*dyv\n",
    "        cycles = detect_cycle()\n",
    "        #splt.set_aspect('equal', 'datalim')\n",
    "        splt.set_aspect('equal',adjustable='box')\n",
    "        splt.set_xlim(min([p.coordinates[0] for p in self.vertices]) - 1, max([p.coordinates[0] for p in self.vertices]) + 1)\n",
    "        splt.set_ylim(min([p.coordinates[1] for p in self.vertices]) - 1, max([p.coordinates[1] for p in self.vertices]) + 1)\n",
    "        color = iter(cm.rainbow(np.linspace(0,1,len(cycles))))\n",
    "        he_list = set(self.halfedges)\n",
    "        for cycle in cycles:\n",
    "            c = next(color)\n",
    "            for he in cycle:\n",
    "                splt.quiver(*shift_left_he(he), scale=1, scale_units='xy', angles='xy', color=c, width=0.002, headwidth=7)\n",
    "        for face in self.faces:\n",
    "            if face.outer_component is not None and face.name is not None:\n",
    "                first_he = face.outer_component\n",
    "                current_he = face.outer_component\n",
    "                list_he = [face.outer_component]\n",
    "                while current_he.next != first_he:\n",
    "                    current_he = current_he.next\n",
    "                    list_he.append(current_he)\n",
    "                x_max = max([he.origin.coordinates[0] for he in list_he])\n",
    "                x_min = min([he.origin.coordinates[0] for he in list_he])\n",
    "                y_max = max([he.origin.coordinates[1] for he in list_he])\n",
    "                y_min = min([he.origin.coordinates[1] for he in list_he])\n",
    "                cx = (x_max+x_min)/2\n",
    "                cy = (y_max+y_min)/2\n",
    "                splt.annotate(face.name, (cx, cy), color='black', weight='bold', \n",
    "                    fontsize=6, ha='center', va='center')\n",
    "            elif face.name is not None:\n",
    "                splt.set_title('Outer face: ' + face.name)\n",
    "        if ax is None:\n",
    "            fig = plt.gcf()\n",
    "            plt.draw()\n",
    "            fig.savefig(name, format='png', dpi=500)\n",
    "            fig.clf()\n",
    "            \n",
    "            \n",
    "    def construct_from_triangulation(self, triangulation):\n",
    "        self.__construct_unbounded_face__(triangulation)"
   ]
  },
  {
   "cell_type": "markdown",
   "metadata": {
    "collapsed": true
   },
   "source": [
    "## Generate Random Plannar Graph"
   ]
  },
  {
   "cell_type": "code",
   "execution_count": 44,
   "metadata": {
    "collapsed": true
   },
   "outputs": [],
   "source": [
    "from scipy.spatial import Delaunay\n",
    "import matplotlib.pyplot as plt\n",
    "def dcel_triangulation(num_vertex):\n",
    "    points = np.random.rand(num_vertex, 2) * num_vertex * 3\n",
    "    tri = Delaunay(points)\n",
    "\n",
    "    la = DCEL()\n",
    "    la.construct_from_triangulation(tri)\n",
    "    return la"
   ]
  },
  {
   "cell_type": "code",
   "execution_count": 45,
   "metadata": {
    "collapsed": true
   },
   "outputs": [],
   "source": [
    "ten_vertex_graph_1 = dcel_triangulation(10)"
   ]
  },
  {
   "cell_type": "code",
   "execution_count": 40,
   "metadata": {},
   "outputs": [
    {
     "data": {
      "text/plain": [
       "Face{outer=HalfEdge{O=[ 23.84780088  24.40655884], D=[ 18.83039173  19.87804654]},inner=[]}"
      ]
     },
     "execution_count": 40,
     "metadata": {},
     "output_type": "execute_result"
    }
   ],
   "source": [
    "ten_vertex_graph_1.halfedges[0].incident_face"
   ]
  },
  {
   "cell_type": "code",
   "execution_count": 32,
   "metadata": {
    "collapsed": true
   },
   "outputs": [],
   "source": [
    "ten_vertex_graph_2 = dcel_triangulation(10)"
   ]
  },
  {
   "cell_type": "code",
   "execution_count": 50,
   "metadata": {
    "collapsed": true
   },
   "outputs": [],
   "source": [
    "import pickle"
   ]
  },
  {
   "cell_type": "code",
   "execution_count": 54,
   "metadata": {
    "collapsed": true
   },
   "outputs": [],
   "source": [
    "for i in range (10):\n",
    "    planar_graph_1 = dcel_triangulation(15 *i + 5)\n",
    "    planar_graph_2 = dcel_triangulation(15 *i + 5)\n",
    "    pickle.dump((planar_graph_1, planar_graph_2), open(\"./test_case/\" + str(30*i + 10) + \"_vertex_overlay.p\", \"wb\"))"
   ]
  },
  {
   "cell_type": "code",
   "execution_count": 54,
   "metadata": {},
   "outputs": [],
   "source": [
    "import os\n",
    "path = './test_case/'\n",
    "for filename in os.listdir(path):\n",
    "    a =  pickle.load(open(path + filename, 'rb'))\n",
    "    a[0].plot_dcel(name = filename + '0.png')"
   ]
  },
  {
   "cell_type": "code",
   "execution_count": 43,
   "metadata": {},
   "outputs": [],
   "source": [
    "import matplotlib.pyplot as plt"
   ]
  },
  {
   "cell_type": "code",
   "execution_count": 44,
   "metadata": {},
   "outputs": [
    {
     "data": {
      "image/png": "[encoded data removed]",
      "text/plain": [
       "<matplotlib.figure.Figure at 0x1cd681c2390>"
      ]
     },
     "metadata": {},
     "output_type": "display_data"
    },
    {
     "data": {
      "image/png": "[encoded data removed]",
      "text/plain": [
       "<matplotlib.figure.Figure at 0x1cd68104898>"
      ]
     },
     "metadata": {},
     "output_type": "display_data"
    }
   ],
   "source": [
    "a[0].plot_dcel()"
   ]
  },
  {
   "cell_type": "code",
   "execution_count": 38,
   "metadata": {
    "collapsed": true
   },
   "outputs": [],
   "source": [
    "fig = plt.figure()"
   ]
  },
  {
   "cell_type": "code",
   "execution_count": 40,
   "metadata": {
    "collapsed": true
   },
   "outputs": [],
   "source": [
    "fig.savefig('10.eps', format='eps', dpi=1000)"
   ]
  },
  {
   "cell_type": "code",
   "execution_count": 31,
   "metadata": {},
   "outputs": [
    {
     "data": {
      "text/plain": [
       "<matplotlib.figure.Figure at 0x1cd67f893c8>"
      ]
     },
     "execution_count": 31,
     "metadata": {},
     "output_type": "execute_result"
    }
   ],
   "source": [
    "fig"
   ]
  },
  {
   "cell_type": "code",
   "execution_count": 19,
   "metadata": {
    "collapsed": true
   },
   "outputs": [],
   "source": [
    "plt.savefig('10.png', format='png', dpi=1000)"
   ]
  },
  {
   "cell_type": "code",
   "execution_count": null,
   "metadata": {
    "collapsed": true
   },
   "outputs": [],
   "source": []
  }
 ],
 "metadata": {
  "kernelspec": {
   "display_name": "Python 3",
   "language": "python",
   "name": "python3"
  },
  "language_info": {
   "codemirror_mode": {
    "name": "ipython",
    "version": 3
   },
   "file_extension": ".py",
   "mimetype": "text/x-python",
   "name": "python",
   "nbconvert_exporter": "python",
   "pygments_lexer": "ipython3",
   "version": "3.6.3"
  }
 },
 "nbformat": 4,
 "nbformat_minor": 2
}
