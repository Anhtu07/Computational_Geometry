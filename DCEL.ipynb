{
 "cells": [
  {
   "cell_type": "markdown",
   "metadata": {},
   "source": [
    "## Create PLY File"
   ]
  },
  {
   "cell_type": "code",
   "execution_count": 2,
   "metadata": {},
   "outputs": [],
   "source": [
    "import numpy\n",
    "vertex = numpy.array([(0, 0),\n",
    "                      (0, 1),\n",
    "                      (1, 0),\n",
    "                      (1, 1)],\n",
    "                      dtype=[('x', 'f4'), ('y', 'f4')])\n",
    "\n",
    "face = numpy.array([([0, 1, 2, 3], 255, 255, 255)],\n",
    "                    dtype=[('vertex_indices', 'i4', (4,)),\n",
    "                           ('red', 'u1'), ('green', 'u1'),\n",
    "                           ('blue', 'u1')])"
   ]
  },
  {
   "cell_type": "code",
   "execution_count": 8,
   "metadata": {},
   "outputs": [],
   "source": [
    "from plyfile import PlyData, PlyElement\n",
    "v = PlyElement.describe(vertex, 'vertex_list')\n",
    "f = PlyElement.describe(face, 'face_list')\n",
    "PlyData([v, f], text = True).write('square_2d.ply')"
   ]
  },
  {
   "cell_type": "markdown",
   "metadata": {},
   "source": [
    "## Read  PLY File"
   ]
  },
  {
   "cell_type": "code",
   "execution_count": 16,
   "metadata": {},
   "outputs": [],
   "source": [
    "plydata = PlyData.read('square_2d.ply')"
   ]
  },
  {
   "cell_type": "code",
   "execution_count": 26,
   "metadata": {},
   "outputs": [
    {
     "data": {
      "text/plain": [
       "array([( 0.,  0.), ( 0.,  1.), ( 1.,  0.), ( 1.,  1.)],\n",
       "      dtype=[('x', '<f4'), ('y', '<f4')])"
      ]
     },
     "execution_count": 26,
     "metadata": {},
     "output_type": "execute_result"
    }
   ],
   "source": [
    "plydata.elements[0].data"
   ]
  },
  {
   "cell_type": "code",
   "execution_count": 27,
   "metadata": {},
   "outputs": [
    {
     "data": {
      "text/plain": [
       "array([(array([0, 1, 2, 3]), 255, 255, 255)],\n",
       "      dtype=[('vertex_indices', 'O'), ('red', 'u1'), ('green', 'u1'), ('blue', 'u1')])"
      ]
     },
     "execution_count": 27,
     "metadata": {},
     "output_type": "execute_result"
    }
   ],
   "source": [
    "plydata.elements[1].data"
   ]
  },
  {
   "cell_type": "markdown",
   "metadata": {},
   "source": [
    "## DCEL"
   ]
  },
  {
   "cell_type": "code",
   "execution_count": 60,
   "metadata": {},
   "outputs": [],
   "source": [
    "class Vertex():\n",
    "    def __init__(self, coordinate = (0, 0), color = None):\n",
    "        self.x = coordinate[0]\n",
    "        self.y = coordinate[1]\n",
    "    \n",
    "    def set_incidence_edge(self, halfedge):\n",
    "        self.incidence_edge = halfedge\n",
    "        \n",
    "class Face():\n",
    "    def __init__(self, outer_component = None, inner_component = []):\n",
    "        self.outer_component = outer_component\n",
    "        self.inner_component = inner_component\n",
    "        \n",
    "    def add_inner_component(self, halfedge):\n",
    "        self.inner_component.append(halfedge)\n",
    "        \n",
    "class HalfEdge():\n",
    "    def __init__(self, origin, has_twin = False):\n",
    "        self.origin = origin\n",
    "        self.has_twin = has_twin\n",
    "        \n",
    "    def set_incidence_face(self, incidence_face):\n",
    "        self.incidence_face = incidence_face\n",
    "        \n",
    "    def set_twin(self, twin_edge):\n",
    "        self.twin = twin_edge\n",
    "        self.has_twin = True\n",
    "        \n",
    "    def set_next(self, next_edge):\n",
    "        self.next = next_edge\n",
    "        \n",
    "    def set_prev(self, prev_edge):\n",
    "        self.prev = prev_edge\n",
    "    "
   ]
  },
  {
   "cell_type": "code",
   "execution_count": 61,
   "metadata": {},
   "outputs": [],
   "source": [
    "class DCEL():\n",
    "    def __init__(self):\n",
    "        self.vertex_list = []\n",
    "        self.face_list = []\n",
    "        self.half_edge_list = []\n",
    "        \n",
    "    def __construct_from_plyfile_without_twin__(self, plydata):\n",
    "        for coordinate in plydata.elements[0].data:\n",
    "            vertex = Vertex(coordinate)\n",
    "            self.vertex_list.append(vertex)\n",
    "            \n",
    "        for f in plydata.elements[1].data:\n",
    "            # create edge list constructing a face\n",
    "            face = f[0]\n",
    "            edges = []\n",
    "            half_edges = []\n",
    "            for i in range(len(face)):\n",
    "                if i < len(face)-1:\n",
    "                    edges.append((face[i], face[i+1]))\n",
    "                else:\n",
    "                    edges.append((face[i], face[0]))\n",
    "            print(edges)\n",
    "            \n",
    "            for edge in edges:\n",
    "                print(edge[0])\n",
    "                half_edge = HalfEdge(self.vertex_list[edge[0]])\n",
    "                self.vertex_list[edge[0]].set_incidence_edge(half_edge)\n",
    "                half_edges.append(half_edge)\n",
    "                \n",
    "            face = Face(half_edges[0])\n",
    "            self.face_list.append(face)\n",
    "            \n",
    "            # set next and prev pointer of half-edges in half_edges\n",
    "            for i in range(len(half_edges)):\n",
    "                \n",
    "                if i == 0:\n",
    "                    half_edges[i].set_next(half_edges[i+1])\n",
    "                    half_edges[i].set_prev(half_edges[-1])\n",
    "                    half_edges[i].set_incidence_face(face)\n",
    "                elif i == len(half_edges)-1:\n",
    "                    half_edges[i].set_next(half_edges[0])\n",
    "                    half_edges[i].set_prev(half_edges[i-1])\n",
    "                    half_edges[i].set_incidence_face(face)\n",
    "                else:\n",
    "                    half_edges[i].set_next(half_edges[i+1])\n",
    "                    half_edges[i].set_prev(half_edges[i-1])\n",
    "                    half_edges[i].set_incidence_face(face)\n",
    "                    \n",
    "            self.half_edge_list.append(half_edges)\n",
    "            \n",
    "    def construct_from_plyfile(self, plydata):\n",
    "        self.__construct_from_plyfile_without_twin__(plydata)"
   ]
  },
  {
   "cell_type": "code",
   "execution_count": 62,
   "metadata": {
    "collapsed": true
   },
   "outputs": [],
   "source": [
    "la = DCEL()"
   ]
  },
  {
   "cell_type": "code",
   "execution_count": 63,
   "metadata": {},
   "outputs": [
    {
     "name": "stdout",
     "output_type": "stream",
     "text": [
      "[(0, 1), (1, 2), (2, 3), (3, 0)]\n",
      "0\n",
      "1\n",
      "2\n",
      "3\n"
     ]
    }
   ],
   "source": [
    "la.construct_from_plyfile_without_twin(plydata)"
   ]
  },
  {
   "cell_type": "code",
   "execution_count": 74,
   "metadata": {},
   "outputs": [
    {
     "data": {
      "text/plain": [
       "<__main__.HalfEdge at 0x2adfebc95f8>"
      ]
     },
     "execution_count": 74,
     "metadata": {},
     "output_type": "execute_result"
    }
   ],
   "source": [
    "la.vertex_list[3].incidence_edge"
   ]
  },
  {
   "cell_type": "code",
   "execution_count": 76,
   "metadata": {},
   "outputs": [
    {
     "data": {
      "text/plain": [
       "<__main__.HalfEdge at 0x2adfebcfef0>"
      ]
     },
     "execution_count": 76,
     "metadata": {},
     "output_type": "execute_result"
    }
   ],
   "source": [
    "la.face_list[0].outer_component"
   ]
  },
  {
   "cell_type": "code",
   "execution_count": 78,
   "metadata": {},
   "outputs": [
    {
     "data": {
      "text/plain": [
       "[[<__main__.HalfEdge at 0x2adfebcfef0>,\n",
       "  <__main__.HalfEdge at 0x2adfebc9b70>,\n",
       "  <__main__.HalfEdge at 0x2adfebc9cc0>,\n",
       "  <__main__.HalfEdge at 0x2adfebc95f8>]]"
      ]
     },
     "execution_count": 78,
     "metadata": {},
     "output_type": "execute_result"
    }
   ],
   "source": [
    "la.half_edge_list"
   ]
  },
  {
   "cell_type": "code",
   "execution_count": 91,
   "metadata": {},
   "outputs": [
    {
     "data": {
      "text/plain": [
       "<__main__.HalfEdge at 0x2adfebc9cc0>"
      ]
     },
     "execution_count": 91,
     "metadata": {},
     "output_type": "execute_result"
    }
   ],
   "source": [
    "la.half_edge_list[0][3].prev"
   ]
  },
  {
   "cell_type": "code",
   "execution_count": null,
   "metadata": {
    "collapsed": true
   },
   "outputs": [],
   "source": []
  },
  {
   "cell_type": "code",
   "execution_count": null,
   "metadata": {
    "collapsed": true
   },
   "outputs": [],
   "source": []
  },
  {
   "cell_type": "code",
   "execution_count": null,
   "metadata": {
    "collapsed": true
   },
   "outputs": [],
   "source": []
  }
 ],
 "metadata": {
  "kernelspec": {
   "display_name": "Python 3",
   "language": "python",
   "name": "python3"
  },
  "language_info": {
   "codemirror_mode": {
    "name": "ipython",
    "version": 3
   },
   "file_extension": ".py",
   "mimetype": "text/x-python",
   "name": "python",
   "nbconvert_exporter": "python",
   "pygments_lexer": "ipython3",
   "version": "3.6.3"
  }
 },
 "nbformat": 4,
 "nbformat_minor": 2
}
