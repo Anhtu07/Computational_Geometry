{
 "cells": [
  {
   "cell_type": "markdown",
   "metadata": {},
   "source": [
    "## Create PLY File"
   ]
  },
  {
   "cell_type": "code",
   "execution_count": 4,
   "metadata": {
    "collapsed": true
   },
   "outputs": [],
   "source": [
    "import numpy\n",
    "vertex = numpy.array([(0, 0),\n",
    "                      (0, 1),\n",
    "                      (1, 1),\n",
    "                      (1, 0),\n",
    "                      (2, 1),\n",
    "                      (2, 0)],\n",
    "                      dtype=[('x', 'f4'), ('y', 'f4')])\n",
    "\n",
    "face = numpy.array([([0, 1, 2, 3], 255, 255, 255),\n",
    "                    ([3, 2, 4, 5], 0, 255, 255)],\n",
    "                    dtype=[('vertex_indices', 'i4', (4,)),\n",
    "                           ('red', 'u1'), ('green', 'u1'),\n",
    "                           ('blue', 'u1')])"
   ]
  },
  {
   "cell_type": "code",
   "execution_count": 5,
   "metadata": {
    "collapsed": true
   },
   "outputs": [],
   "source": [
    "from plyfile import PlyData, PlyElement\n",
    "v = PlyElement.describe(vertex, 'vertex_list')\n",
    "f = PlyElement.describe(face, 'face_list')\n",
    "PlyData([v, f], text = True).write('two_square_2d.ply')"
   ]
  },
  {
   "cell_type": "markdown",
   "metadata": {},
   "source": [
    "## Read  PLY File"
   ]
  },
  {
   "cell_type": "code",
   "execution_count": 6,
   "metadata": {
    "collapsed": true
   },
   "outputs": [],
   "source": [
    "plydata = PlyData.read('two_square_2d.ply')"
   ]
  },
  {
   "cell_type": "code",
   "execution_count": 7,
   "metadata": {},
   "outputs": [
    {
     "data": {
      "text/plain": [
       "-1.0"
      ]
     },
     "execution_count": 7,
     "metadata": {},
     "output_type": "execute_result"
    }
   ],
   "source": [
    "plydata.elements[0].data[0][0] - 1"
   ]
  },
  {
   "cell_type": "code",
   "execution_count": 8,
   "metadata": {},
   "outputs": [
    {
     "data": {
      "text/plain": [
       "array([(array([0, 1, 2, 3]), 255, 255, 255),\n",
       "       (array([3, 2, 4, 5]),   0, 255, 255)],\n",
       "      dtype=[('vertex_indices', 'O'), ('red', 'u1'), ('green', 'u1'), ('blue', 'u1')])"
      ]
     },
     "execution_count": 8,
     "metadata": {},
     "output_type": "execute_result"
    }
   ],
   "source": [
    "plydata.elements[1].data"
   ]
  },
  {
   "cell_type": "markdown",
   "metadata": {},
   "source": [
    "## DCEL"
   ]
  },
  {
   "cell_type": "code",
   "execution_count": 47,
   "metadata": {
    "collapsed": true
   },
   "outputs": [],
   "source": [
    "from math import acos\n",
    "from math import sqrt\n",
    "from math import pi\n",
    "\n",
    "def length(v):\n",
    "    return sqrt(v[0]**2+v[1]**2)\n",
    "def dot_product(v,w):\n",
    "    return v[0]*w[0]+v[1]*w[1]\n",
    "def determinant(v,w):\n",
    "    return v[0]*w[1]-v[1]*w[0]\n",
    "def inner_angle(v,w):\n",
    "    cosx=dot_product(v,w)/(length(v)*length(w))\n",
    "    rad=acos(cosx) # in radians\n",
    "    return rad*180/pi # returns degrees\n",
    "def angle_counterclockwise(A, B):\n",
    "    inner=inner_angle(A,B)\n",
    "    det = determinant(A,B)\n",
    "    if det<0: #this is a property of the det. If the det < 0 then B is clockwise of A\n",
    "        return 360-inner\n",
    "    else: # if the det > 0 then A is immediately clockwise of B\n",
    "        return inner"
   ]
  },
  {
   "cell_type": "code",
   "execution_count": 144,
   "metadata": {
    "collapsed": true
   },
   "outputs": [],
   "source": [
    "class Vertex():\n",
    "    def __init__(self, coordinate = [0, 0], color = None):\n",
    "        self.x = coordinate[0]\n",
    "        self.y = coordinate[1]\n",
    "        self.coordinate = np.array([int(self.x), int(self.y)])\n",
    "    \n",
    "    def set_incidence_edge(self, halfedge):\n",
    "        self.incidence_edge = halfedge\n",
    "        \n",
    "    def __repr__(self):\n",
    "        return str(self.coordinate)\n",
    "        \n",
    "class Face():\n",
    "    def __init__(self, outer_component = None, name = None):\n",
    "        self.outer_component = outer_component\n",
    "        self.inner_component = []\n",
    "        self.name = name\n",
    "        \n",
    "    def add_inner_component(self, halfedge):\n",
    "        self.inner_component.append(halfedge)\n",
    "        \n",
    "class HalfEdge():\n",
    "    def __init__(self, origin, has_twin = False):\n",
    "        self.origin = origin\n",
    "        self.has_twin = has_twin\n",
    "        self.twin = None\n",
    "        self.next = None\n",
    "        self.prev = None\n",
    "        \n",
    "    def __repr__(self):\n",
    "        return ('HalfEdge{O=' + str(self.origin) + ', D=' + (str(self.next.origin) if self.next is not None else 'none')) + '}'\n",
    "        \n",
    "    def set_incidence_face(self, incidence_face):\n",
    "        self.incidence_face = incidence_face\n",
    "        \n",
    "    def set_twin(self, twin_edge):\n",
    "        self.twin = twin_edge\n",
    "        self.has_twin = True\n",
    "        \n",
    "    def set_next(self, next_edge):\n",
    "        self.next = next_edge\n",
    "        \n",
    "    def set_prev(self, prev_edge):\n",
    "        self.prev = prev_edge\n",
    "    "
   ]
  },
  {
   "cell_type": "code",
   "execution_count": 200,
   "metadata": {},
   "outputs": [
    {
     "data": {
      "image/png": "[encoded data removed]",
      "text/plain": [
       "<matplotlib.figure.Figure at 0x2918777c1d0>"
      ]
     },
     "metadata": {},
     "output_type": "display_data"
    },
    {
     "name": "stdout",
     "output_type": "stream",
     "text": [
      "Populating the interactive namespace from numpy and matplotlib\n",
      "HalfEdge{O=[1 1], D=[1 0]}\n",
      "HalfEdge{O=[1 0], D=[0 0]}\n",
      "HalfEdge{O=[0 0], D=[0 1]}\n",
      "HalfEdge{O=[0 1], D=[0 0]}\n",
      "HalfEdge{O=[0 0], D=[1 1]}\n",
      "HalfEdge{O=[1 1], D=[0 1]}\n",
      "HalfEdge{O=[0 1], D=[0 0]}\n"
     ]
    },
    {
     "name": "stderr",
     "output_type": "stream",
     "text": [
      "C:\\Users\\tungu\\Anaconda3\\lib\\site-packages\\IPython\\core\\magics\\pylab.py:160: UserWarning: pylab import has clobbered these variables: ['tri']\n",
      "`%matplotlib` prevents importing * from pylab and numpy\n",
      "  \"\\n`%matplotlib` prevents importing * from pylab and numpy\"\n"
     ]
    },
    {
     "ename": "KeyError",
     "evalue": "HalfEdge{O=[0 1], D=[0 0]}",
     "output_type": "error",
     "traceback": [
      "\u001b[1;31m---------------------------------------------------------------------------\u001b[0m",
      "\u001b[1;31mKeyError\u001b[0m                                  Traceback (most recent call last)",
      "\u001b[1;32m<ipython-input-200-92972883e3bb>\u001b[0m in \u001b[0;36m<module>\u001b[1;34m()\u001b[0m\n\u001b[0;32m    215\u001b[0m \u001b[0mget_ipython\u001b[0m\u001b[1;33m(\u001b[0m\u001b[1;33m)\u001b[0m\u001b[1;33m.\u001b[0m\u001b[0mmagic\u001b[0m\u001b[1;33m(\u001b[0m\u001b[1;34m'pylab inline'\u001b[0m\u001b[1;33m)\u001b[0m\u001b[1;33m\u001b[0m\u001b[0m\n\u001b[0;32m    216\u001b[0m \u001b[0mpylab\u001b[0m\u001b[1;33m.\u001b[0m\u001b[0mrcParams\u001b[0m\u001b[1;33m[\u001b[0m\u001b[1;34m'figure.figsize'\u001b[0m\u001b[1;33m]\u001b[0m \u001b[1;33m=\u001b[0m \u001b[1;33m(\u001b[0m\u001b[1;36m10\u001b[0m\u001b[1;33m,\u001b[0m \u001b[1;36m6\u001b[0m\u001b[1;33m)\u001b[0m\u001b[1;33m\u001b[0m\u001b[0m\n\u001b[1;32m--> 217\u001b[1;33m \u001b[0mla\u001b[0m\u001b[1;33m.\u001b[0m\u001b[0mplot_dcel\u001b[0m\u001b[1;33m(\u001b[0m\u001b[1;33m)\u001b[0m\u001b[1;33m\u001b[0m\u001b[0m\n\u001b[0m",
      "\u001b[1;32m<ipython-input-200-92972883e3bb>\u001b[0m in \u001b[0;36mplot_dcel\u001b[1;34m(self, ax)\u001b[0m\n\u001b[0;32m    168\u001b[0m             \u001b[0mdxv\u001b[0m\u001b[1;33m,\u001b[0m \u001b[0mdyv\u001b[0m \u001b[1;33m=\u001b[0m \u001b[0mv\u001b[0m\u001b[1;33m/\u001b[0m\u001b[0mnorm\u001b[0m\u001b[1;33m*\u001b[0m\u001b[1;36m0.03\u001b[0m\u001b[1;33m\u001b[0m\u001b[0m\n\u001b[0;32m    169\u001b[0m             \u001b[1;32mreturn\u001b[0m \u001b[0mx1\u001b[0m\u001b[1;33m+\u001b[0m\u001b[0mdx\u001b[0m\u001b[1;33m+\u001b[0m\u001b[0mdxv\u001b[0m\u001b[1;33m,\u001b[0m \u001b[0my1\u001b[0m\u001b[1;33m+\u001b[0m\u001b[0mdy\u001b[0m\u001b[1;33m+\u001b[0m\u001b[0mdyv\u001b[0m\u001b[1;33m,\u001b[0m \u001b[0mx2\u001b[0m\u001b[1;33m-\u001b[0m\u001b[0mx1\u001b[0m\u001b[1;33m-\u001b[0m\u001b[1;36m2\u001b[0m\u001b[1;33m*\u001b[0m\u001b[0mdxv\u001b[0m\u001b[1;33m,\u001b[0m \u001b[0my2\u001b[0m\u001b[1;33m-\u001b[0m\u001b[0my1\u001b[0m\u001b[1;33m-\u001b[0m\u001b[1;36m2\u001b[0m\u001b[1;33m*\u001b[0m\u001b[0mdyv\u001b[0m\u001b[1;33m\u001b[0m\u001b[0m\n\u001b[1;32m--> 170\u001b[1;33m         \u001b[0mcycles\u001b[0m \u001b[1;33m=\u001b[0m \u001b[0mdetect_cycle\u001b[0m\u001b[1;33m(\u001b[0m\u001b[1;33m)\u001b[0m\u001b[1;33m\u001b[0m\u001b[0m\n\u001b[0m\u001b[0;32m    171\u001b[0m         \u001b[1;31m#splt.set_aspect('equal', 'datalim')\u001b[0m\u001b[1;33m\u001b[0m\u001b[1;33m\u001b[0m\u001b[0m\n\u001b[0;32m    172\u001b[0m         \u001b[0msplt\u001b[0m\u001b[1;33m.\u001b[0m\u001b[0mset_aspect\u001b[0m\u001b[1;33m(\u001b[0m\u001b[1;34m'equal'\u001b[0m\u001b[1;33m,\u001b[0m\u001b[0madjustable\u001b[0m\u001b[1;33m=\u001b[0m\u001b[1;34m'box'\u001b[0m\u001b[1;33m)\u001b[0m\u001b[1;33m\u001b[0m\u001b[0m\n",
      "\u001b[1;32m<ipython-input-200-92972883e3bb>\u001b[0m in \u001b[0;36mdetect_cycle\u001b[1;34m()\u001b[0m\n\u001b[0;32m    152\u001b[0m                     \u001b[0mcurrent_he\u001b[0m \u001b[1;33m=\u001b[0m \u001b[0mcurrent_he\u001b[0m\u001b[1;33m.\u001b[0m\u001b[0mnext\u001b[0m\u001b[1;33m\u001b[0m\u001b[0m\n\u001b[0;32m    153\u001b[0m                     \u001b[0mprint\u001b[0m\u001b[1;33m(\u001b[0m\u001b[0mcurrent_he\u001b[0m\u001b[1;33m)\u001b[0m\u001b[1;33m\u001b[0m\u001b[0m\n\u001b[1;32m--> 154\u001b[1;33m                     \u001b[0mhe_set\u001b[0m\u001b[1;33m.\u001b[0m\u001b[0mremove\u001b[0m\u001b[1;33m(\u001b[0m\u001b[0mcurrent_he\u001b[0m\u001b[1;33m)\u001b[0m\u001b[1;33m\u001b[0m\u001b[0m\n\u001b[0m\u001b[0;32m    155\u001b[0m                     \u001b[0mcurrent_cycle\u001b[0m\u001b[1;33m.\u001b[0m\u001b[0mappend\u001b[0m\u001b[1;33m(\u001b[0m\u001b[0mcurrent_he\u001b[0m\u001b[1;33m)\u001b[0m\u001b[1;33m\u001b[0m\u001b[0m\n\u001b[0;32m    156\u001b[0m                 \u001b[0mcycles\u001b[0m\u001b[1;33m.\u001b[0m\u001b[0mappend\u001b[0m\u001b[1;33m(\u001b[0m\u001b[0mcurrent_cycle\u001b[0m\u001b[1;33m)\u001b[0m\u001b[1;33m\u001b[0m\u001b[0m\n",
      "\u001b[1;31mKeyError\u001b[0m: HalfEdge{O=[0 1], D=[0 0]}"
     ]
    },
    {
     "data": {
      "image/png": "[encoded data removed]",
      "text/plain": [
       "<matplotlib.figure.Figure at 0x29187965e48>"
      ]
     },
     "metadata": {},
     "output_type": "display_data"
    }
   ],
   "source": [
    "import numpy as np\n",
    "import matplotlib.cm as cm\n",
    "class DCEL():\n",
    "    def __init__(self):\n",
    "        self.vertices = []\n",
    "        self.faces = []\n",
    "        self.halfedges = []\n",
    "        \n",
    "    def __construct_bounded_face__(self, triangulation):\n",
    "        for coordinate in triangulation.points:\n",
    "            vertex = Vertex(coordinate)\n",
    "            self.vertices.append(vertex)\n",
    "            \n",
    "        for face in triangulation.simplices:\n",
    "            # create edge list constructing a face\n",
    "            edges = []\n",
    "            half_edges = []\n",
    "            for i in range(len(face)):\n",
    "                if i < len(face)-1:\n",
    "                    edges.append((face[i], face[i+1]))\n",
    "                else:\n",
    "                    edges.append((face[i], face[0]))\n",
    "\n",
    "            for edge in edges:\n",
    "                half_edge = HalfEdge(self.vertices[edge[0]])\n",
    "                self.vertices[edge[0]].set_incidence_edge(half_edge)\n",
    "                half_edges.append(half_edge)\n",
    "                \n",
    "            face = Face(half_edges[0])\n",
    "            self.faces.append(face)\n",
    "            \n",
    "            # set next and prev pointer of half-edges in half_edges\n",
    "            for i in range(len(half_edges)):\n",
    "                \n",
    "                if i == 0:\n",
    "                    half_edges[i].set_next(half_edges[i+1])\n",
    "                    half_edges[i].set_prev(half_edges[-1])\n",
    "                    half_edges[i].set_incidence_face(face)\n",
    "                elif i == len(half_edges)-1:\n",
    "                    half_edges[i].set_next(half_edges[0])\n",
    "                    half_edges[i].set_prev(half_edges[i-1])\n",
    "                    half_edges[i].set_incidence_face(face)\n",
    "                else:\n",
    "                    half_edges[i].set_next(half_edges[i+1])\n",
    "                    half_edges[i].set_prev(half_edges[i-1])\n",
    "                    half_edges[i].set_incidence_face(face)\n",
    "                    \n",
    "            for hf in half_edges:\n",
    "                self.halfedges.append(hf)\n",
    "            \n",
    "    def __construct_twin__(self, triangulation):\n",
    "        self.__construct_bounded_face__(triangulation)\n",
    "        #Sequentially pick half edge a from half_edge list, check if there exist another half b edge that has its end is a's origin\n",
    "        #and it's origin is a's end, set a and b are twin of each other.\n",
    "        for i in range(len(self.halfedges)):\n",
    "            a = self.halfedges[i]\n",
    "            if a.has_twin:\n",
    "                continue\n",
    "            a_origin = a.origin\n",
    "            a_end = a.next.origin\n",
    "            for hf in self.halfedges[i+1:]:\n",
    "                b_origin = hf.origin\n",
    "                b_end = hf.next.origin\n",
    "                if a_origin == b_end and a_end == b_origin:\n",
    "                    b = hf\n",
    "                    a.set_twin(b)\n",
    "                    b.set_twin(a)\n",
    "                    break\n",
    "                    \n",
    "    def __construct_unbounded_face__(self, triangulation):\n",
    "        self.__construct_twin__(triangulation)\n",
    "        # for every hafl edge that doesnt have twin edge, find its next by searching for a half edge whose end is its origin\n",
    "        # and also doesn't have a twin.\n",
    "        unbounded_face = Face()\n",
    "        \n",
    "        without_twin_list = []\n",
    "        for hf in self.halfedges:\n",
    "            if not hf.has_twin:\n",
    "                without_twin_list.append(hf)\n",
    "\n",
    "        while len(without_twin_list) != 0:\n",
    "            starting_hf = without_twin_list[0] #take a arbitrary half edge\n",
    "            end = starting_hf.next.origin\n",
    "            origin = starting_hf.origin\n",
    "\n",
    "            \n",
    "            starting_twin_hf = HalfEdge(end)\n",
    "            starting_twin_hf.set_twin(starting_hf)\n",
    "            starting_hf.set_twin(starting_twin_hf)\n",
    "            \n",
    "            current_twin_edge = starting_twin_hf\n",
    "            self.halfedges.append(starting_twin_hf)\n",
    "            rm_list = [starting_hf]\n",
    "            \n",
    "            while current_twin_edge.next is None:\n",
    "                candidates = []\n",
    "                for hf in without_twin_list:\n",
    "                    end_hf = hf.next.origin\n",
    "                    if end_hf == origin and not hf.has_twin:\n",
    "                        candidates.append(hf)\n",
    "                \n",
    "                if candidates == []:\n",
    "                    break\n",
    "                        \n",
    "                v1 = end.coordinate - origin.coordinate\n",
    "                angles = []\n",
    "                for c in candidates:\n",
    "                    v2 = c.origin.coordinate - c.next.origin.coordinate\n",
    "                    counterclockwise_angle = angle_counterclockwise(v1, v2)\n",
    "                    angles.append(counterclockwise_angle)\n",
    "                \n",
    "                index = angles.index(max(angles))\n",
    "                winner = candidates[index] #^^#\n",
    "                \n",
    "                twin_winner = HalfEdge(origin)\n",
    "                twin_winner.set_twin(winner)\n",
    "                winner.set_twin(twin_winner)\n",
    "                \n",
    "                current_twin_edge.set_next(twin_winner)\n",
    "                twin_winner.set_prev(current_twin_edge)\n",
    "                \n",
    "                current_twin_edge = twin_winner\n",
    "                rm_list.append(winner)\n",
    "                origin = winner.origin\n",
    "                end = winner.next.origin\n",
    "                self.halfedges.append(twin_winner)\n",
    "            \n",
    "            starting_twin_hf = starting_hf.next\n",
    "            current_twin_edge.set_next(starting_twin_hf)\n",
    "            starting_twin_hf.set_prev(current_twin_edge)\n",
    "\n",
    "            unbounded_face.add_inner_component(rm_list[0])\n",
    "            for hf in rm_list:\n",
    "                without_twin_list.remove(hf)\n",
    "            \n",
    "            \n",
    "        self.faces.append(unbounded_face)\n",
    "                        \n",
    "    def plot_dcel(self, ax=None):\n",
    "        if ax is not None:\n",
    "            splt = ax\n",
    "        else:\n",
    "            splt = plt.subplot()\n",
    "        def detect_cycle():\n",
    "            cycles = []\n",
    "            he_set = set(self.halfedges)\n",
    "            print(he_set)\n",
    "            while len(he_set) != 0:\n",
    "                first_he = he_set.pop()\n",
    "                current_cycle = [first_he]\n",
    "                current_he = first_he\n",
    "                while current_he.next != first_he:\n",
    "                    current_he = current_he.next\n",
    "                    print(current_he)\n",
    "                    he_set.remove(current_he)\n",
    "                    current_cycle.append(current_he)\n",
    "                cycles.append(current_cycle)\n",
    "            return cycles\n",
    "\n",
    "        def shift_left_he(halfedge):\n",
    "            x1, y1 = halfedge.origin.coordinate\n",
    "            x2, y2 = halfedge.next.origin.coordinate\n",
    "            v = np.array([x2-x1, y2-y1])\n",
    "            xv, yv = v\n",
    "            norm = np.linalg.norm([xv, yv])\n",
    "            a = np.array([[xv, yv], [-yv, xv]])\n",
    "            b = [0, 0.03*norm]\n",
    "            dx, dy = np.linalg.solve(a,b)\n",
    "            dxv, dyv = v/norm*0.03\n",
    "            return x1+dx+dxv, y1+dy+dyv, x2-x1-2*dxv, y2-y1-2*dyv\n",
    "        cycles = detect_cycle()\n",
    "        #splt.set_aspect('equal', 'datalim')\n",
    "        splt.set_aspect('equal',adjustable='box')\n",
    "        splt.set_xlim(min([p.coordinate[0] for p in self.vertices]) - 1, max([p.coordinate[0] for p in self.vertices]) + 1)\n",
    "        splt.set_ylim(min([p.coordinate[1] for p in self.vertices]) - 1, max([p.coordinate[1] for p in self.vertices]) + 1)\n",
    "        color = iter(cm.rainbow(np.linspace(0,1,len(cycles))))\n",
    "        he_list = set(self.halfedges)\n",
    "        for cycle in cycles:\n",
    "            c = next(color)\n",
    "            for he in cycle:\n",
    "                splt.quiver(*shift_left_he(he), scale=1, scale_units='xy', angles='xy', color=c, width=0.002, headwidth=7)\n",
    "        for face in self.faces:\n",
    "            if face.outer_component is not None and face.name is not None:\n",
    "                first_he = face.outer_component\n",
    "                current_he = face.outer_component\n",
    "                list_he = [face.outer_component]\n",
    "                while current_he.next != first_he:\n",
    "                    current_he = current_he.next\n",
    "                    list_he.append(current_he)\n",
    "                x_max = max([he.origin.coordinate[0] for he in list_he])\n",
    "                x_min = min([he.origin.coordinate[0] for he in list_he])\n",
    "                y_max = max([he.origin.coordinate[1] for he in list_he])\n",
    "                y_min = min([he.origin.coordinate[1] for he in list_he])\n",
    "                cx = (x_max+x_min)/2\n",
    "                cy = (y_max+y_min)/2\n",
    "                splt.annotate(face.name, (cx, cy), color='black', weight='bold', \n",
    "                    fontsize=6, ha='center', va='center')\n",
    "            elif face.name is not None:\n",
    "                splt.set_title('Outer face: ' + face.name)\n",
    "        if ax is None:\n",
    "            plt.show()\n",
    "            \n",
    "    def construct_from_triangulation(self, triangulation):\n",
    "        self.__construct_unbounded_face__(triangulation)\n",
    "        \n",
    "points = np.array([[0, 0], [0, 1], [1, 0], [1, 1]])\n",
    "tri = Delaunay(points)\n",
    "\n",
    "plt.triplot(points[:,0], points[:,1], tri.simplices.copy())\n",
    "plt.plot(points[:,0], points[:,1], 'o')\n",
    "plt.show()\n",
    "\n",
    "la = DCEL()\n",
    "la.construct_from_triangulation(tri)\n",
    "\n",
    "%pylab inline\n",
    "pylab.rcParams['figure.figsize'] = (10, 6)\n",
    "la.plot_dcel()"
   ]
  },
  {
   "cell_type": "markdown",
   "metadata": {
    "collapsed": true
   },
   "source": [
    "## Generate Random Plannar Graph"
   ]
  },
  {
   "cell_type": "code",
   "execution_count": 194,
   "metadata": {},
   "outputs": [],
   "source": [
    "import numpy as np\n",
    "points = np.array([[0, 0], [0, 1], [1, 0], [1, 1]])\n",
    "from scipy.spatial import Delaunay\n",
    "tri = Delaunay(points)"
   ]
  },
  {
   "cell_type": "code",
   "execution_count": 195,
   "metadata": {},
   "outputs": [
    {
     "data": {
      "image/png": "[encoded data removed]",
      "text/plain": [
       "<matplotlib.figure.Figure at 0x291873980f0>"
      ]
     },
     "metadata": {},
     "output_type": "display_data"
    }
   ],
   "source": [
    "import matplotlib.pyplot as plt\n",
    "plt.triplot(points[:,0], points[:,1], tri.simplices.copy())\n",
    "plt.plot(points[:,0], points[:,1], 'o')\n",
    "plt.show()"
   ]
  },
  {
   "cell_type": "code",
   "execution_count": 196,
   "metadata": {},
   "outputs": [
    {
     "data": {
      "text/plain": [
       "array([[3, 1, 0],\n",
       "       [2, 3, 0]], dtype=int32)"
      ]
     },
     "execution_count": 196,
     "metadata": {},
     "output_type": "execute_result"
    }
   ],
   "source": [
    "tri.simplices"
   ]
  },
  {
   "cell_type": "code",
   "execution_count": 197,
   "metadata": {},
   "outputs": [],
   "source": [
    "la = DCEL()"
   ]
  },
  {
   "cell_type": "code",
   "execution_count": 198,
   "metadata": {},
   "outputs": [
    {
     "name": "stdout",
     "output_type": "stream",
     "text": [
      "[HalfEdge{O=[1 1], D=[0 1]}, HalfEdge{O=[0 1], D=[0 0]}, HalfEdge{O=[1 0], D=[1 1]}, HalfEdge{O=[0 0], D=[1 0]}]\n",
      "done\n",
      "done\n",
      "done\n"
     ]
    }
   ],
   "source": [
    "la.construct_from_triangulation(tri)"
   ]
  },
  {
   "cell_type": "code",
   "execution_count": 189,
   "metadata": {},
   "outputs": [
    {
     "data": {
      "text/plain": [
       "[HalfEdge{O=[1 1], D=[0 1]},\n",
       " HalfEdge{O=[0 1], D=[0 0]},\n",
       " HalfEdge{O=[0 0], D=[1 1]},\n",
       " HalfEdge{O=[1 0], D=[1 1]},\n",
       " HalfEdge{O=[1 1], D=[0 0]},\n",
       " HalfEdge{O=[0 0], D=[1 0]},\n",
       " HalfEdge{O=[0 1], D=[1 1]},\n",
       " HalfEdge{O=[1 1], D=[1 0]},\n",
       " HalfEdge{O=[1 0], D=[0 0]},\n",
       " HalfEdge{O=[0 0], D=[0 1]}]"
      ]
     },
     "execution_count": 189,
     "metadata": {},
     "output_type": "execute_result"
    }
   ],
   "source": [
    "la.halfedges"
   ]
  },
  {
   "cell_type": "code",
   "execution_count": 199,
   "metadata": {},
   "outputs": [
    {
     "name": "stdout",
     "output_type": "stream",
     "text": [
      "Populating the interactive namespace from numpy and matplotlib\n"
     ]
    },
    {
     "name": "stderr",
     "output_type": "stream",
     "text": [
      "C:\\Users\\tungu\\Anaconda3\\lib\\site-packages\\IPython\\core\\magics\\pylab.py:160: UserWarning: pylab import has clobbered these variables: ['tri']\n",
      "`%matplotlib` prevents importing * from pylab and numpy\n",
      "  \"\\n`%matplotlib` prevents importing * from pylab and numpy\"\n"
     ]
    },
    {
     "ename": "KeyError",
     "evalue": "HalfEdge{O=[0 1], D=[0 0]}",
     "output_type": "error",
     "traceback": [
      "\u001b[1;31m---------------------------------------------------------------------------\u001b[0m",
      "\u001b[1;31mKeyError\u001b[0m                                  Traceback (most recent call last)",
      "\u001b[1;32m<ipython-input-199-24e33635c302>\u001b[0m in \u001b[0;36m<module>\u001b[1;34m()\u001b[0m\n\u001b[0;32m      1\u001b[0m \u001b[0mget_ipython\u001b[0m\u001b[1;33m(\u001b[0m\u001b[1;33m)\u001b[0m\u001b[1;33m.\u001b[0m\u001b[0mmagic\u001b[0m\u001b[1;33m(\u001b[0m\u001b[1;34m'pylab inline'\u001b[0m\u001b[1;33m)\u001b[0m\u001b[1;33m\u001b[0m\u001b[0m\n\u001b[0;32m      2\u001b[0m \u001b[0mpylab\u001b[0m\u001b[1;33m.\u001b[0m\u001b[0mrcParams\u001b[0m\u001b[1;33m[\u001b[0m\u001b[1;34m'figure.figsize'\u001b[0m\u001b[1;33m]\u001b[0m \u001b[1;33m=\u001b[0m \u001b[1;33m(\u001b[0m\u001b[1;36m10\u001b[0m\u001b[1;33m,\u001b[0m \u001b[1;36m6\u001b[0m\u001b[1;33m)\u001b[0m\u001b[1;33m\u001b[0m\u001b[0m\n\u001b[1;32m----> 3\u001b[1;33m \u001b[0mla\u001b[0m\u001b[1;33m.\u001b[0m\u001b[0mplot_dcel\u001b[0m\u001b[1;33m(\u001b[0m\u001b[1;33m)\u001b[0m\u001b[1;33m\u001b[0m\u001b[0m\n\u001b[0m",
      "\u001b[1;32m<ipython-input-191-735158bcb034>\u001b[0m in \u001b[0;36mplot_dcel\u001b[1;34m(self, ax)\u001b[0m\n\u001b[0;32m    169\u001b[0m             \u001b[0mdxv\u001b[0m\u001b[1;33m,\u001b[0m \u001b[0mdyv\u001b[0m \u001b[1;33m=\u001b[0m \u001b[0mv\u001b[0m\u001b[1;33m/\u001b[0m\u001b[0mnorm\u001b[0m\u001b[1;33m*\u001b[0m\u001b[1;36m0.03\u001b[0m\u001b[1;33m\u001b[0m\u001b[0m\n\u001b[0;32m    170\u001b[0m             \u001b[1;32mreturn\u001b[0m \u001b[0mx1\u001b[0m\u001b[1;33m+\u001b[0m\u001b[0mdx\u001b[0m\u001b[1;33m+\u001b[0m\u001b[0mdxv\u001b[0m\u001b[1;33m,\u001b[0m \u001b[0my1\u001b[0m\u001b[1;33m+\u001b[0m\u001b[0mdy\u001b[0m\u001b[1;33m+\u001b[0m\u001b[0mdyv\u001b[0m\u001b[1;33m,\u001b[0m \u001b[0mx2\u001b[0m\u001b[1;33m-\u001b[0m\u001b[0mx1\u001b[0m\u001b[1;33m-\u001b[0m\u001b[1;36m2\u001b[0m\u001b[1;33m*\u001b[0m\u001b[0mdxv\u001b[0m\u001b[1;33m,\u001b[0m \u001b[0my2\u001b[0m\u001b[1;33m-\u001b[0m\u001b[0my1\u001b[0m\u001b[1;33m-\u001b[0m\u001b[1;36m2\u001b[0m\u001b[1;33m*\u001b[0m\u001b[0mdyv\u001b[0m\u001b[1;33m\u001b[0m\u001b[0m\n\u001b[1;32m--> 171\u001b[1;33m         \u001b[0mcycles\u001b[0m \u001b[1;33m=\u001b[0m \u001b[0mdetect_cycle\u001b[0m\u001b[1;33m(\u001b[0m\u001b[1;33m)\u001b[0m\u001b[1;33m\u001b[0m\u001b[0m\n\u001b[0m\u001b[0;32m    172\u001b[0m         \u001b[1;31m#splt.set_aspect('equal', 'datalim')\u001b[0m\u001b[1;33m\u001b[0m\u001b[1;33m\u001b[0m\u001b[0m\n\u001b[0;32m    173\u001b[0m         \u001b[0msplt\u001b[0m\u001b[1;33m.\u001b[0m\u001b[0mset_aspect\u001b[0m\u001b[1;33m(\u001b[0m\u001b[1;34m'equal'\u001b[0m\u001b[1;33m,\u001b[0m\u001b[0madjustable\u001b[0m\u001b[1;33m=\u001b[0m\u001b[1;34m'box'\u001b[0m\u001b[1;33m)\u001b[0m\u001b[1;33m\u001b[0m\u001b[0m\n",
      "\u001b[1;32m<ipython-input-191-735158bcb034>\u001b[0m in \u001b[0;36mdetect_cycle\u001b[1;34m()\u001b[0m\n\u001b[0;32m    153\u001b[0m                 \u001b[1;32mwhile\u001b[0m \u001b[0mcurrent_he\u001b[0m\u001b[1;33m.\u001b[0m\u001b[0mnext\u001b[0m \u001b[1;33m!=\u001b[0m \u001b[0mfirst_he\u001b[0m\u001b[1;33m:\u001b[0m\u001b[1;33m\u001b[0m\u001b[0m\n\u001b[0;32m    154\u001b[0m                     \u001b[0mcurrent_he\u001b[0m \u001b[1;33m=\u001b[0m \u001b[0mcurrent_he\u001b[0m\u001b[1;33m.\u001b[0m\u001b[0mnext\u001b[0m\u001b[1;33m\u001b[0m\u001b[0m\n\u001b[1;32m--> 155\u001b[1;33m                     \u001b[0mhe_set\u001b[0m\u001b[1;33m.\u001b[0m\u001b[0mremove\u001b[0m\u001b[1;33m(\u001b[0m\u001b[0mcurrent_he\u001b[0m\u001b[1;33m)\u001b[0m\u001b[1;33m\u001b[0m\u001b[0m\n\u001b[0m\u001b[0;32m    156\u001b[0m                     \u001b[0mcurrent_cycle\u001b[0m\u001b[1;33m.\u001b[0m\u001b[0mappend\u001b[0m\u001b[1;33m(\u001b[0m\u001b[0mcurrent_he\u001b[0m\u001b[1;33m)\u001b[0m\u001b[1;33m\u001b[0m\u001b[0m\n\u001b[0;32m    157\u001b[0m                 \u001b[0mcycles\u001b[0m\u001b[1;33m.\u001b[0m\u001b[0mappend\u001b[0m\u001b[1;33m(\u001b[0m\u001b[0mcurrent_cycle\u001b[0m\u001b[1;33m)\u001b[0m\u001b[1;33m\u001b[0m\u001b[0m\n",
      "\u001b[1;31mKeyError\u001b[0m: HalfEdge{O=[0 1], D=[0 0]}"
     ]
    },
    {
     "data": {
      "image/png": "[encoded data removed]",
      "text/plain": [
       "<matplotlib.figure.Figure at 0x2918775f0f0>"
      ]
     },
     "metadata": {},
     "output_type": "display_data"
    }
   ],
   "source": [
    "%pylab inline\n",
    "pylab.rcParams['figure.figsize'] = (10, 6)\n",
    "la.plot_dcel()"
   ]
  },
  {
   "cell_type": "code",
   "execution_count": 46,
   "metadata": {},
   "outputs": [],
   "source": []
  },
  {
   "cell_type": "code",
   "execution_count": null,
   "metadata": {
    "collapsed": true
   },
   "outputs": [],
   "source": []
  }
 ],
 "metadata": {
  "kernelspec": {
   "display_name": "Python 3",
   "language": "python",
   "name": "python3"
  },
  "language_info": {
   "codemirror_mode": {
    "name": "ipython",
    "version": 3
   },
   "file_extension": ".py",
   "mimetype": "text/x-python",
   "name": "python",
   "nbconvert_exporter": "python",
   "pygments_lexer": "ipython3",
   "version": "3.6.3"
  }
 },
 "nbformat": 4,
 "nbformat_minor": 2
}
