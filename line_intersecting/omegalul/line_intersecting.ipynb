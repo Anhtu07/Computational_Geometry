{
 "cells": [
  {
   "cell_type": "code",
   "execution_count": 3,
   "metadata": {},
   "outputs": [
    {
     "name": "stdout",
     "output_type": "stream",
     "text": [
      "['line_2', 'line_6', 'line_3']\n",
      "['line_2', 'line_6', 'line_3', 'line_11']\n",
      "['line_2', 'line_6', 'line_11', 'line_3']\n",
      "['line_1', 'line_7', 'line_6', 'line_11', 'line_3']\n",
      "['line_1', 'line_11', 'line_6', 'line_7', 'line_3']\n",
      "['line_1', 'line_11', 'line_6', 'line_4', 'line_7']\n",
      "['line_1', 'line_11', 'line_6', 'line_4']\n",
      "['line_1', 'line_8', 'line_9', 'line_11', 'line_6', 'line_4']\n",
      "['line_1', 'line_8', 'line_11', 'line_9', 'line_6', 'line_4']\n",
      "['line_1', 'line_11', 'line_10', 'line_9', 'line_6', 'line_4']\n",
      "['line_1', 'line_11', 'line_6', 'line_4']\n",
      "['line_1', 'line_11', 'line_5']\n",
      "[]\n",
      "[(2, 3), (2.5, 2.5), (1, 2), (2.0, 2.0), (3, 2), (1, 1.5), (1.25, 1.25), (1, 1), (1.5, 1), (2, 1), (0, 0)]\n"
     ]
    }
   ],
   "source": [
    "import numpy as np\n",
    "import matplotlib.pyplot as plt\n",
    "from eventQueue import EventQueue\n",
    "from line import Line       \n",
    "from statusStructure import StatusStructure\n",
    "\n",
    "class FindIntersections():\n",
    "    def __init__(self):\n",
    "        self.Q = EventQueue()\n",
    "        self.T = StatusStructure()        \n",
    "        self.intersections = []\n",
    "        \n",
    "    def find_intersections(self, lines):\n",
    "        for line in lines:\n",
    "            self.Q.insert_line(line)\n",
    "        while not self.Q.is_empty():\n",
    "            next_event = self.Q.pop_next_event()\n",
    "            self.handle_event_point(next_event)\n",
    "            \n",
    "    def handle_event_point(self, p):\n",
    "        U_p = p.lines\n",
    "        L_p, C_p, L_C = self.T.find_segments_contain(p.point)\n",
    "        U_C = U_p + C_p\n",
    "        L_U_C = L_C + U_p\n",
    "        if len(L_U_C) > 1:\n",
    "            self.intersections.append(p.point)\n",
    "        for line in L_C:\n",
    "            self.T.delete(p.point, line)\n",
    "        self.T.insert(p.point, U_C)\n",
    "        self.T._print_name()\n",
    "        if len(U_C) == 0:\n",
    "            s_l = self.T.find_left_neighbor(p.point)\n",
    "            s_r = self.T.find_right_neighbor(p.point)\n",
    "            self.find_new_event(s_l, s_r, p.point)\n",
    "        else:\n",
    "            s_lm = self.T.find_leftmost(p.point)\n",
    "            s_l = self.T.find_left_neighbor(p.point)\n",
    "            self.find_new_event(s_lm, s_l, p.point)\n",
    "            s_rm = self.T.find_rightmost(p.point)\n",
    "            s_r = self.T.find_right_neighbor(p.point)\n",
    "            self.find_new_event(s_rm, s_r, p.point)\n",
    "            \n",
    "            \n",
    "    def find_new_event(self, s_l, s_r, p):\n",
    "        if s_l is None or s_r is None:\n",
    "            return\n",
    "        i = s_l.intersect(s_r)\n",
    "        if i is None:\n",
    "            return\n",
    "        x_i, y_i = i\n",
    "        x_p, y_p = p\n",
    "        if y_i < y_p or (y_i == y_p and x_i > x_p):\n",
    "            self.Q.insert(i)\n",
    "        \n",
    "if __name__ == '__main__':\n",
    "    line_1 = Line((0, 0), (1, 2))\n",
    "    line_2 = Line((1, 2), (2, 3))\n",
    "    line_3 = Line((2, 3), (3, 2))\n",
    "    line_4 = Line((3, 2), (2, 1))\n",
    "    line_5 = Line((2, 1), (0, 0))\n",
    "    line_6 = Line((2, 1), (2, 3))\n",
    "    line_7 = Line((1, 2), (4, 2))\n",
    "    line_8 = Line((1, 1), (1, 1.5))\n",
    "    line_9 = Line((1, 1.5), (1.5, 1))\n",
    "    line_10 = Line((1.5, 1), (1, 1))\n",
    "    line_11 = Line((0, 0), (3, 3))\n",
    "    lines = [line_1, line_2, line_3, line_4, line_5, line_6, line_7, line_8, line_9, line_10, line_11]\n",
    "\n",
    "    i = 1\n",
    "    for line in lines:\n",
    "        line.name = 'line_'+str(i)\n",
    "        i += 1\n",
    "    def find_and_plot(lines):\n",
    "        plt.axis('equal')\n",
    "        def plot_line(line):\n",
    "            x = line[0]\n",
    "            y = line[1]\n",
    "            plt.plot((x[0], y[0]), (x[1], y[1]), 'ro-')\n",
    "        for line in lines:\n",
    "            plot_line((line.upper_endpoint, line.lower_endpoint))\n",
    "        F = FindIntersections()\n",
    "        F.find_intersections(lines)\n",
    "        for point in F.intersections:\n",
    "            plt.plot(point[0], point[1], marker='x', markersize=10, color=\"blue\")\n",
    "        return F.intersections\n",
    "    print(find_and_plot(lines))"
   ]
  },
  {
   "cell_type": "code",
   "execution_count": 4,
   "metadata": {},
   "outputs": [
    {
     "data": {
      "image/png": "[encoded data removed]",
      "text/plain": [
       "<matplotlib.figure.Figure at 0x1dbb6ea2c50>"
      ]
     },
     "metadata": {},
     "output_type": "display_data"
    }
   ],
   "source": [
    "plt.show()"
   ]
  },
  {
   "cell_type": "markdown",
   "metadata": {},
   "source": [
    "## Read PLY file"
   ]
  },
  {
   "cell_type": "code",
   "execution_count": 5,
   "metadata": {
    "collapsed": true
   },
   "outputs": [],
   "source": [
    "from plyfile import PlyData, PlyElement"
   ]
  },
  {
   "cell_type": "code",
   "execution_count": 7,
   "metadata": {},
   "outputs": [],
   "source": [
    "plydata = PlyData.read('test.ply')"
   ]
  },
  {
   "cell_type": "code",
   "execution_count": 8,
   "metadata": {},
   "outputs": [
    {
     "data": {
      "text/plain": [
       "PlyData((PlyElement('vertex', (PlyProperty('x', 'float'), PlyProperty('y', 'float'), PlyProperty('z', 'float')), count=8, comments=[]), PlyElement('face', (PlyListProperty('vertex_index', 'uchar', 'int'),), count=6, comments=[])), text=True, byte_order='=', comments=['made by anonymous', 'this file is a cube'], obj_info=[])"
      ]
     },
     "execution_count": 8,
     "metadata": {},
     "output_type": "execute_result"
    }
   ],
   "source": [
    "plydata"
   ]
  },
  {
   "cell_type": "markdown",
   "metadata": {},
   "source": [
    "## DCEL"
   ]
  },
  {
   "cell_type": "code",
   "execution_count": 15,
   "metadata": {
    "collapsed": true
   },
   "outputs": [],
   "source": [
    "class Vertex():\n",
    "    def __init__(self, coordinate = [0, 0 ,0], half_edge = None, attr = None):\n",
    "        self.x = coordinate[0]\n",
    "        self.y = coordinate[1]\n",
    "        self.z = coordinate[2]\n",
    "        self.attr = attr\n",
    "    def set_edge(self, hafl_edge):\n",
    "        self.incident_edge = half_edge\n",
    "        \n",
    "class HalfEdge():\n",
    "    def __init__(self, origin = None):\n",
    "        self.origin = origin\n",
    "        \n",
    "    def set_twin(self, twin):\n",
    "        self.twin = twin\n",
    "    def set_next(self, next_edge):\n",
    "        self.next = next_edge\n",
    "    def set_prev(self, prev_edge):\n",
    "        self.prev = prev_edge\n",
    "    def set_face(self, incident_f):\n",
    "        self.incident_face = incident_f\n",
    "        \n",
    "class Face():\n",
    "    def __init__(self, inner_component = [], outer_component = None):\n",
    "        self.outer = outer_component\n",
    "        self.inner = inner_component\n",
    "        \n",
    "    def add_inner(self, new_component):\n",
    "        self.inner.append(new_component)"
   ]
  },
  {
   "cell_type": "code",
   "execution_count": 14,
   "metadata": {},
   "outputs": [
    {
     "data": {
      "text/plain": [
       "array([(array([0, 1, 2, 3]),), (array([7, 6, 5, 4]),),\n",
       "       (array([0, 4, 5, 1]),), (array([1, 5, 6, 2]),),\n",
       "       (array([2, 6, 7, 3]),), (array([3, 7, 4, 0]),)],\n",
       "      dtype=[('vertex_index', 'O')])"
      ]
     },
     "execution_count": 14,
     "metadata": {},
     "output_type": "execute_result"
    }
   ],
   "source": [
    "class DCEL():\n",
    "    def __init__(Vertex, HalfEdge, Face):\n",
    "        self.Vertex = Vertex\n",
    "        self.HalfEdge = HalfEdge\n",
    "        self.Face = Face\n",
    "        \n",
    "    def read_from_file(file):\n",
    "        plydata = PlyData.read('test.ply')\n",
    "        vertecies = []\n",
    "        for v in plydata.elements[0].data:\n",
    "            vertex = Vertex(v)\n",
    "            vertecis.append(vertex)\n",
    "            \n",
    "        halfedges = []    \n",
    "        for f in plydata.elements[1].data:\n",
    "            for i in f:\n",
    "                edge = HalfEdge()"
   ]
  },
  {
   "cell_type": "code",
   "execution_count": 16,
   "metadata": {},
   "outputs": [
    {
     "data": {
      "text/plain": [
       "array([( 0.,  0.,  0.), ( 0.,  0.,  1.), ( 0.,  1.,  1.), ( 0.,  1.,  0.),\n",
       "       ( 1.,  0.,  0.), ( 1.,  0.,  1.), ( 1.,  1.,  1.), ( 1.,  1.,  0.)],\n",
       "      dtype=[('x', '<f4'), ('y', '<f4'), ('z', '<f4')])"
      ]
     },
     "execution_count": 16,
     "metadata": {},
     "output_type": "execute_result"
    }
   ],
   "source": [
    "plydata.elements[0].data"
   ]
  },
  {
   "cell_type": "code",
   "execution_count": null,
   "metadata": {
    "collapsed": true
   },
   "outputs": [],
   "source": []
  }
 ],
 "metadata": {
  "kernelspec": {
   "display_name": "Python 3",
   "language": "python",
   "name": "python3"
  },
  "language_info": {
   "codemirror_mode": {
    "name": "ipython",
    "version": 3
   },
   "file_extension": ".py",
   "mimetype": "text/x-python",
   "name": "python",
   "nbconvert_exporter": "python",
   "pygments_lexer": "ipython3",
   "version": "3.6.3"
  }
 },
 "nbformat": 4,
 "nbformat_minor": 2
}
