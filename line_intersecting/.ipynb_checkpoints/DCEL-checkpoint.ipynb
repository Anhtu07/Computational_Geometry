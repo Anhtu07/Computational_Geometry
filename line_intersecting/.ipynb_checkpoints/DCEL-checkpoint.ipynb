{
 "cells": [
  {
   "cell_type": "markdown",
   "metadata": {},
   "source": [
    "## Create PLY File"
   ]
  },
  {
   "cell_type": "code",
   "execution_count": 4,
   "metadata": {
    "collapsed": true
   },
   "outputs": [],
   "source": [
    "import numpy\n",
    "vertex = numpy.array([(0, 0),\n",
    "                      (0, 1),\n",
    "                      (1, 1),\n",
    "                      (1, 0),\n",
    "                      (2, 1),\n",
    "                      (2, 0)],\n",
    "                      dtype=[('x', 'f4'), ('y', 'f4')])\n",
    "\n",
    "face = numpy.array([([0, 1, 2, 3], 255, 255, 255),\n",
    "                    ([3, 2, 4, 5], 0, 255, 255)],\n",
    "                    dtype=[('vertex_indices', 'i4', (4,)),\n",
    "                           ('red', 'u1'), ('green', 'u1'),\n",
    "                           ('blue', 'u1')])"
   ]
  },
  {
   "cell_type": "code",
   "execution_count": 5,
   "metadata": {
    "collapsed": true
   },
   "outputs": [],
   "source": [
    "from plyfile import PlyData, PlyElement\n",
    "v = PlyElement.describe(vertex, 'vertex_list')\n",
    "f = PlyElement.describe(face, 'face_list')\n",
    "PlyData([v, f], text = True).write('two_square_2d.ply')"
   ]
  },
  {
   "cell_type": "markdown",
   "metadata": {},
   "source": [
    "## Read  PLY File"
   ]
  },
  {
   "cell_type": "code",
   "execution_count": 6,
   "metadata": {
    "collapsed": true
   },
   "outputs": [],
   "source": [
    "plydata = PlyData.read('two_square_2d.ply')"
   ]
  },
  {
   "cell_type": "code",
   "execution_count": 7,
   "metadata": {},
   "outputs": [
    {
     "data": {
      "text/plain": [
       "-1.0"
      ]
     },
     "execution_count": 7,
     "metadata": {},
     "output_type": "execute_result"
    }
   ],
   "source": [
    "plydata.elements[0].data[0][0] - 1"
   ]
  },
  {
   "cell_type": "code",
   "execution_count": 8,
   "metadata": {},
   "outputs": [
    {
     "data": {
      "text/plain": [
       "array([(array([0, 1, 2, 3]), 255, 255, 255),\n",
       "       (array([3, 2, 4, 5]),   0, 255, 255)],\n",
       "      dtype=[('vertex_indices', 'O'), ('red', 'u1'), ('green', 'u1'), ('blue', 'u1')])"
      ]
     },
     "execution_count": 8,
     "metadata": {},
     "output_type": "execute_result"
    }
   ],
   "source": [
    "plydata.elements[1].data"
   ]
  },
  {
   "cell_type": "markdown",
   "metadata": {},
   "source": [
    "## DCEL"
   ]
  },
  {
   "cell_type": "code",
   "execution_count": 9,
   "metadata": {
    "collapsed": true
   },
   "outputs": [],
   "source": [
    "from math import acos\n",
    "from math import sqrt\n",
    "from math import pi\n",
    "\n",
    "def length(v):\n",
    "    return sqrt(v[0]**2+v[1]**2)\n",
    "def dot_product(v,w):\n",
    "    return v[0]*w[0]+v[1]*w[1]\n",
    "def determinant(v,w):\n",
    "    return v[0]*w[1]-v[1]*w[0]\n",
    "def inner_angle(v,w):\n",
    "    cosx=dot_product(v,w)/(length(v)*length(w))\n",
    "    rad=acos(cosx) # in radians\n",
    "    return rad*180/pi # returns degrees\n",
    "def angle_counterclockwise(A, B):\n",
    "    inner=inner_angle(A,B)\n",
    "    det = determinant(A,B)\n",
    "    if det<0: #this is a property of the det. If the det < 0 then B is clockwise of A\n",
    "        return 360-inner\n",
    "    else: # if the det > 0 then A is immediately clockwise of B\n",
    "        return inner"
   ]
  },
  {
   "cell_type": "code",
   "execution_count": 10,
   "metadata": {
    "collapsed": true
   },
   "outputs": [],
   "source": [
    "class Vertex():\n",
    "    def __init__(self, coordinate = (0, 0), color = None):\n",
    "        self.x = coordinate[0]\n",
    "        self.y = coordinate[1]\n",
    "        self.coordinate = np.array([int(self.x), int(self.y)])\n",
    "    \n",
    "    def set_incidence_edge(self, halfedge):\n",
    "        self.incidence_edge = halfedge\n",
    "        \n",
    "class Face():\n",
    "    def __init__(self, outer_component = None):\n",
    "        self.outer_component = outer_component\n",
    "        self.inner_component = []\n",
    "        \n",
    "    def add_inner_component(self, halfedge):\n",
    "        self.inner_component.append(halfedge)\n",
    "        \n",
    "class HalfEdge():\n",
    "    def __init__(self, origin, has_twin = False):\n",
    "        self.origin = origin\n",
    "        self.has_twin = has_twin\n",
    "        self.twin = None\n",
    "        self.next = None\n",
    "        self.prev = None\n",
    "        \n",
    "    def set_incidence_face(self, incidence_face):\n",
    "        self.incidence_face = incidence_face\n",
    "        \n",
    "    def set_twin(self, twin_edge):\n",
    "        self.twin = twin_edge\n",
    "        self.has_twin = True\n",
    "        \n",
    "    def set_next(self, next_edge):\n",
    "        self.next = next_edge\n",
    "        \n",
    "    def set_prev(self, prev_edge):\n",
    "        self.prev = prev_edge\n",
    "    "
   ]
  },
  {
   "cell_type": "code",
   "execution_count": 17,
   "metadata": {
    "collapsed": true
   },
   "outputs": [],
   "source": [
    "import numpy as np\n",
    "class DCEL():\n",
    "    def __init__(self):\n",
    "        self.vertex_list = []\n",
    "        self.face_list = []\n",
    "        self.half_edge_list = []\n",
    "        \n",
    "    def __construct_bounded_face__(self, plydata):\n",
    "        for coordinate in plydata.elements[0].data:\n",
    "            vertex = Vertex(coordinate)\n",
    "            self.vertex_list.append(vertex)\n",
    "            \n",
    "        for f in plydata.elements[1].data:\n",
    "            # create edge list constructing a face\n",
    "            face = f[0]\n",
    "            edges = []\n",
    "            half_edges = []\n",
    "            for i in range(len(face)):\n",
    "                if i < len(face)-1:\n",
    "                    edges.append((face[i], face[i+1]))\n",
    "                else:\n",
    "                    edges.append((face[i], face[0]))\n",
    "\n",
    "            for edge in edges:\n",
    "                half_edge = HalfEdge(self.vertex_list[edge[0]])\n",
    "                self.vertex_list[edge[0]].set_incidence_edge(half_edge)\n",
    "                half_edges.append(half_edge)\n",
    "                \n",
    "            face = Face(half_edges[0])\n",
    "            self.face_list.append(face)\n",
    "            \n",
    "            # set next and prev pointer of half-edges in half_edges\n",
    "            for i in range(len(half_edges)):\n",
    "                \n",
    "                if i == 0:\n",
    "                    half_edges[i].set_next(half_edges[i+1])\n",
    "                    half_edges[i].set_prev(half_edges[-1])\n",
    "                    half_edges[i].set_incidence_face(face)\n",
    "                elif i == len(half_edges)-1:\n",
    "                    half_edges[i].set_next(half_edges[0])\n",
    "                    half_edges[i].set_prev(half_edges[i-1])\n",
    "                    half_edges[i].set_incidence_face(face)\n",
    "                else:\n",
    "                    half_edges[i].set_next(half_edges[i+1])\n",
    "                    half_edges[i].set_prev(half_edges[i-1])\n",
    "                    half_edges[i].set_incidence_face(face)\n",
    "                    \n",
    "            for hf in half_edges:\n",
    "                self.half_edge_list.append(hf)\n",
    "            \n",
    "    def __construct_twin__(self):\n",
    "        #Sequentially pick half edge a from half_edge list, check if there exist another half b edge that has its end is a's origin\n",
    "        #and it's origin is a's end, set a and b are twin of each other.\n",
    "        for i in range(len(self.half_edge_list)):\n",
    "            a = self.half_edge_list[i]\n",
    "            if a.has_twin:\n",
    "                continue\n",
    "            a_origin = a.origin\n",
    "            a_end = a.next.origin\n",
    "            for hf in self.half_edge_list[i+1:]:\n",
    "                b_origin = hf.origin\n",
    "                b_end = hf.next.origin\n",
    "                if a_origin == b_end and a_end == b_origin:\n",
    "                    b = hf\n",
    "                    a.set_twin(b)\n",
    "                    b.set_twin(a)\n",
    "                    break\n",
    "                    \n",
    "    def __construct_unbounded_face__(self):\n",
    "        # for every hafl edge that doesnt have twin edge, find its next by searching for a half edge whose end is its origin\n",
    "        # and also doesn't have a twin.\n",
    "        unbounded_face = Face()\n",
    "        \n",
    "        without_twin_list = []\n",
    "        for hf in self.half_edge_list:\n",
    "            if not hf.has_twin:\n",
    "                without_twin_list.append(hf)\n",
    "        \n",
    "        while len(without_twin_list) != 0:\n",
    "            starting_hf = without_twin_list[0] #take a arbitrayry half edge\n",
    "            end = starting_hf.next.origin\n",
    "            origin = starting_hf.origin\n",
    "\n",
    "            \n",
    "            starting_twin_hf = HalfEdge(end)\n",
    "            starting_twin_hf.set_twin(starting_hf)\n",
    "            starting_hf.set_twin(starting_twin_hf)\n",
    "            \n",
    "            current_twin_edge = starting_twin_hf\n",
    "            rm_list = [starting_hf]\n",
    "            \n",
    "            while current_twin_edge.next is None or current_twin_edge is starting_twin_hf:\n",
    "                candidates = []\n",
    "                for hf in without_twin_list:\n",
    "                    end_hf = hf.next.origin\n",
    "                    if end_hf == origin and not hf.has_twin:\n",
    "                        print(hf.origin.coordinate)\n",
    "                        candidates.append(hf)\n",
    "                \n",
    "                if candidates == []:\n",
    "                    break\n",
    "                        \n",
    "                v1 = end.coordinate - origin.coordinate\n",
    "                angles = []\n",
    "                for c in candidates:\n",
    "                    v2 = c.origin.coordinate - c.next.origin.coordinate\n",
    "                    counterclockwise_angle = angle_counterclockwise(v1, v2)\n",
    "                    angles.append(counterclockwise_angle)\n",
    "                \n",
    "                print(angles)\n",
    "                index = angles.index(max(angles))\n",
    "                winner = candidates[index] #^^#\n",
    "                \n",
    "                twin_winner = HalfEdge(origin)\n",
    "                twin_winner.set_twin(winner)\n",
    "                winner.set_twin(twin_winner)\n",
    "                \n",
    "                current_twin_edge.set_next(twin_winner)\n",
    "                twin_winner.set_prev(current_twin_edge)\n",
    "                \n",
    "                current_twin_edge = twin_winner\n",
    "                rm_list.append(winner)\n",
    "                origin = winner.origin\n",
    "                end = winner.next.origin         \n",
    "                \n",
    "            print(rm_list)\n",
    "            print(rm_list[0])\n",
    "            unbounded_face.add_inner_component(rm_list[0])\n",
    "            for hf in rm_list:\n",
    "                without_twin_list.remove(hf)\n",
    "            \n",
    "            \n",
    "        self.face_list.append(unbounded_face)\n",
    "                        \n",
    "                       \n",
    "    def construct_from_plyfile(self, plydata):\n",
    "        self.__construct_unbounded_face__(plydata)\n",
    "        self.__construct_twin__()\n",
    "        self.__construct_bounded_face__()"
   ]
  },
  {
   "cell_type": "code",
   "execution_count": 18,
   "metadata": {
    "collapsed": true
   },
   "outputs": [],
   "source": [
    "la = DCEL()"
   ]
  },
  {
   "cell_type": "code",
   "execution_count": 19,
   "metadata": {},
   "outputs": [
    {
     "ename": "TypeError",
     "evalue": "__construct_unbounded_face__() takes 1 positional argument but 2 were given",
     "output_type": "error",
     "traceback": [
      "\u001b[1;31m---------------------------------------------------------------------------\u001b[0m",
      "\u001b[1;31mTypeError\u001b[0m                                 Traceback (most recent call last)",
      "\u001b[1;32m<ipython-input-19-883bd4adb36a>\u001b[0m in \u001b[0;36m<module>\u001b[1;34m()\u001b[0m\n\u001b[1;32m----> 1\u001b[1;33m \u001b[0mla\u001b[0m\u001b[1;33m.\u001b[0m\u001b[0m__construct_unbounded_face__\u001b[0m\u001b[1;33m(\u001b[0m\u001b[0mplydata\u001b[0m\u001b[1;33m)\u001b[0m\u001b[1;33m\u001b[0m\u001b[0m\n\u001b[0m",
      "\u001b[1;31mTypeError\u001b[0m: __construct_unbounded_face__() takes 1 positional argument but 2 were given"
     ]
    }
   ],
   "source": [
    "la.__construct_unbounded_face__(plydata)"
   ]
  },
  {
   "cell_type": "code",
   "execution_count": 22,
   "metadata": {},
   "outputs": [
    {
     "data": {
      "text/plain": [
       "[<__main__.HalfEdge at 0x18aa5fc7a90>,\n",
       " <__main__.HalfEdge at 0x18aa5fc77b8>,\n",
       " <__main__.HalfEdge at 0x18aa5fc78d0>,\n",
       " <__main__.HalfEdge at 0x18aa5fc79b0>,\n",
       " <__main__.HalfEdge at 0x18aa5fc76d8>,\n",
       " <__main__.HalfEdge at 0x18aa5fc7908>,\n",
       " <__main__.HalfEdge at 0x18aa5fc7940>,\n",
       " <__main__.HalfEdge at 0x18aa5fc7c50>]"
      ]
     },
     "execution_count": 22,
     "metadata": {},
     "output_type": "execute_result"
    }
   ],
   "source": [
    "la.half_edge_list"
   ]
  },
  {
   "cell_type": "code",
   "execution_count": 23,
   "metadata": {},
   "outputs": [
    {
     "data": {
      "text/plain": [
       "[<__main__.Face at 0x18aa5fc7a20>,\n",
       " <__main__.Face at 0x18aa5fc7ac8>,\n",
       " <__main__.Face at 0x18aa5fc7b38>]"
      ]
     },
     "execution_count": 23,
     "metadata": {},
     "output_type": "execute_result"
    }
   ],
   "source": [
    "la.face_list"
   ]
  },
  {
   "cell_type": "code",
   "execution_count": 24,
   "metadata": {},
   "outputs": [
    {
     "data": {
      "text/plain": [
       "[<__main__.Vertex at 0x18aa5fc75f8>,\n",
       " <__main__.Vertex at 0x18aa5fc7898>,\n",
       " <__main__.Vertex at 0x18aa5fc79e8>,\n",
       " <__main__.Vertex at 0x18aa5fc7b00>,\n",
       " <__main__.Vertex at 0x18aa5fc7b70>,\n",
       " <__main__.Vertex at 0x18aa5fc7978>]"
      ]
     },
     "execution_count": 24,
     "metadata": {},
     "output_type": "execute_result"
    }
   ],
   "source": [
    "la.vertex_list"
   ]
  },
  {
   "cell_type": "code",
   "execution_count": 28,
   "metadata": {},
   "outputs": [
    {
     "data": {
      "text/plain": [
       "[]"
      ]
     },
     "execution_count": 28,
     "metadata": {},
     "output_type": "execute_result"
    }
   ],
   "source": [
    "la.face_list[0].inner_component"
   ]
  },
  {
   "cell_type": "code",
   "execution_count": 43,
   "metadata": {
    "collapsed": true
   },
   "outputs": [],
   "source": [
    "a = [10,15,1,2,3,4,5,6]"
   ]
  },
  {
   "cell_type": "code",
   "execution_count": 44,
   "metadata": {},
   "outputs": [
    {
     "data": {
      "text/plain": [
       "15"
      ]
     },
     "execution_count": 44,
     "metadata": {},
     "output_type": "execute_result"
    }
   ],
   "source": [
    "max(a)"
   ]
  },
  {
   "cell_type": "code",
   "execution_count": 52,
   "metadata": {},
   "outputs": [
    {
     "data": {
      "text/plain": [
       "array([-2, -2])"
      ]
     },
     "execution_count": 52,
     "metadata": {},
     "output_type": "execute_result"
    }
   ],
   "source": [
    "import numpy as np\n",
    "np.array((1, 2)) - np.array((3, 4))"
   ]
  },
  {
   "cell_type": "code",
   "execution_count": null,
   "metadata": {
    "collapsed": true
   },
   "outputs": [],
   "source": []
  },
  {
   "cell_type": "code",
   "execution_count": null,
   "metadata": {
    "collapsed": true
   },
   "outputs": [],
   "source": []
  },
  {
   "cell_type": "code",
   "execution_count": null,
   "metadata": {
    "collapsed": true
   },
   "outputs": [],
   "source": []
  }
 ],
 "metadata": {
  "kernelspec": {
   "display_name": "Python 3",
   "language": "python",
   "name": "python3"
  },
  "language_info": {
   "codemirror_mode": {
    "name": "ipython",
    "version": 3
   },
   "file_extension": ".py",
   "mimetype": "text/x-python",
   "name": "python",
   "nbconvert_exporter": "python",
   "pygments_lexer": "ipython3",
   "version": "3.6.3"
  }
 },
 "nbformat": 4,
 "nbformat_minor": 2
}
